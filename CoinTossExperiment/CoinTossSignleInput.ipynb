{
  "nbformat": 4,
  "nbformat_minor": 0,
  "metadata": {
    "colab": {
      "provenance": []
    },
    "kernelspec": {
      "name": "python3",
      "display_name": "Python 3"
    },
    "language_info": {
      "name": "python"
    }
  },
  "cells": [
    {
      "cell_type": "code",
      "execution_count": null,
      "metadata": {
        "id": "AyT2uDmvtt-S"
      },
      "outputs": [],
      "source": [
        "import numpy as np\n",
        "import matplotlib.pyplot as plt\n",
        "import os\n",
        "from scipy.stats import norm\n",
        "import torch\n",
        "import torch.nn as nn\n",
        "from torch.autograd import Variable\n",
        "from numpy import hstack\n",
        "from numpy import zeros\n",
        "from numpy import ones\n",
        "from numpy.random import rand\n",
        "from numpy.random import randn\n",
        "from keras.models import Sequential\n",
        "from keras.layers import Dense\n",
        "from matplotlib import pyplot\n",
        "import keras"
      ]
    },
    {
      "cell_type": "code",
      "source": [
        "def probCalc(prob,samples):\n",
        "  succ=0\n",
        "  fail=0\n",
        "  for i in prob:\n",
        "    if i>0.5:\n",
        "      succ+=1\n",
        "    else:\n",
        "      fail+=1\n",
        "  print(f\"success = {succ/samples},failure = {fail/samples}\")"
      ],
      "metadata": {
        "id": "FSSYzarsuBky"
      },
      "execution_count": null,
      "outputs": []
    },
    {
      "cell_type": "code",
      "source": [
        "def coinToss(p,samples):\n",
        "    prob = np.random.binomial(1,p,samples)\n",
        "    print(prob)\n",
        "    probCalc(prob,samples)\n",
        "    return prob"
      ],
      "metadata": {
        "id": "-Amb-AKrt3jx"
      },
      "execution_count": null,
      "outputs": []
    },
    {
      "cell_type": "code",
      "source": [
        "# Probability of success\n",
        "p = 0.5"
      ],
      "metadata": {
        "id": "QbPnOY1huDIH"
      },
      "execution_count": null,
      "outputs": []
    },
    {
      "cell_type": "code",
      "source": [
        "# define the standalone discriminator model\n",
        "def define_discriminator(n_inputs=1):\n",
        " model = Sequential()\n",
        " model.add(Dense(25, activation='relu', kernel_initializer='he_uniform', input_dim=n_inputs))\n",
        " model.add(Dense(1, activation='sigmoid'))\n",
        " # compile model\n",
        " model.compile(loss='binary_crossentropy', optimizer='adam', metrics=['accuracy'])\n",
        " return model\n",
        "\n",
        "# define the standalone generator model\n",
        "def define_generator(latent_dim, n_outputs=1):\n",
        " model = Sequential()\n",
        " model.add(Dense(15, activation='relu', kernel_initializer='he_uniform', input_dim=latent_dim))\n",
        " model.add(Dense(n_outputs, activation='linear'))\n",
        " return model\n",
        "\n",
        "def define_gan(generator, discriminator):\n",
        " # make weights in the discriminator not trainable\n",
        " discriminator.trainable = False\n",
        " # connect them\n",
        " model = Sequential()\n",
        " # add generator\n",
        " model.add(generator)\n",
        " # add the discriminator\n",
        " model.add(discriminator)\n",
        " # compile model\n",
        " model.compile(loss='binary_crossentropy', optimizer='adam')\n",
        " return model\n",
        "\n",
        "# generate n real samples with class labels\n",
        "def generate_real_samples(n):\n",
        " # generate inputs in [-0.5, 0.5]\n",
        " X = coinToss(p,n).reshape(n, 1)\n",
        " # generate class labels\n",
        " y = ones((n, 1))\n",
        " return X, y\n",
        "\n",
        "# generate points in latent space as input for the generator\n",
        "def generate_latent_points(latent_dim, n):\n",
        " # generate points in the latent space\n",
        " x_input = np.random.normal(0,1,n)#randn(latent_dim * n)\n",
        " # reshape into a batch of inputs for the network\n",
        " #x_input = x_input.reshape(n, latent_dim)\n",
        " return x_input\n",
        "\n",
        "# use the generator to generate n fake examples, with class labels\n",
        "def generate_fake_samples(generator, latent_dim, n):\n",
        " # generate points in latent space\n",
        " x_input = generate_latent_points(latent_dim, n)\n",
        " print(f\"Generated gaussian RV : {x_input}\")\n",
        " # predict outputs\n",
        " X = generator.predict(x_input)\n",
        " # create class labels\n",
        " y = zeros((n, 1))\n",
        " print(f\"Generator output : {X},{y}\")\n",
        " return X, y\n",
        "\n",
        "# evaluate the discriminator and plot real and fake points\n",
        "def summarize_performance(epoch, generator, discriminator, latent_dim, n=100):\n",
        " # prepare real samples\n",
        " x_real, y_real = generate_real_samples(n)\n",
        " # evaluate discriminator on real examples\n",
        " _, acc_real = discriminator.evaluate(x_real, y_real, verbose=0)\n",
        " # prepare fake examples\n",
        " x_fake, y_fake = generate_fake_samples(generator, latent_dim, n)\n",
        " # evaluate discriminator on fake examples\n",
        " _, acc_fake = discriminator.evaluate(x_fake, y_fake, verbose=0)\n",
        " # summarize discriminator performance\n",
        " print(f\"epoch : {epoch},acc_real : {acc_real},acc_fake : {acc_fake}\")\n",
        " #print(f\"Fake Data : {x_fake}\")\n",
        " probCalc(y_fake,n)\n",
        " # scatter plot real and fake data points\n",
        " xs = np.linspace(0, n, n)\n",
        " pyplot.scatter(xs,x_real[:, 0] ,color='red')\n",
        " pyplot.scatter(xs,x_fake[:, 0], color='blue')\n",
        " pyplot.show()\n",
        "\n"
      ],
      "metadata": {
        "id": "bhdvuExnuN6h"
      },
      "execution_count": null,
      "outputs": []
    },
    {
      "cell_type": "code",
      "source": [
        "# train the generator and discriminator\n",
        "def train(g_model, d_model, gan_model, latent_dim, n_epochs=10, n_batch=100, n_eval=2):\n",
        " # determine half the size of one batch, for updating the discriminator\n",
        " half_batch = int(n_batch)\n",
        " # manually enumerate epochs\n",
        " for i in range(n_epochs):\n",
        "  # prepare real samples\n",
        "  print(f\"\\n\\n Epoch {i}\")\n",
        "  x_real, y_real = generate_real_samples(n_batch)\n",
        "  for j in range(n_batch):\n",
        "    # prepare fake examples\n",
        "    x_fake, y_fake = generate_fake_samples(g_model, latent_dim, 1)\n",
        "    # update discriminator\n",
        "    print(f\"x_real : {x_real[j]},y_real : {y_real[j]}\")\n",
        "    print(f\"x_fake : {x_fake},y_fake : {y_fake}\")\n",
        "    real_train_metrics = d_model.train_on_batch(x_real[j], y_real[j],return_dict=True)\n",
        "    fake_train_metrics = d_model.train_on_batch(x_fake, y_fake,return_dict=True)\n",
        "    print(f\"sample {j} : Real Metrics : {real_train_metrics}\")\n",
        "    print(f\"sample {j} : Fake Metrics : {fake_train_metrics}\")\n",
        "    D_real_loss.append(real_train_metrics['loss'])\n",
        "    D_real_accuracy.append(real_train_metrics['accuracy'])\n",
        "    D_fake_loss.append(fake_train_metrics['loss'])\n",
        "    D_fake_accuracy.append(fake_train_metrics['accuracy'])\n",
        "    plot_metrics(D_real_loss,D_real_accuracy,D_fake_loss,D_fake_accuracy,G_loss,G_accuracy)\n",
        "    # prepare points in latent space as input for the generator\n",
        "    x_gan = generate_latent_points(latent_dim, 1)\n",
        "    # create inverted labels for the fake samples\n",
        "    y_gan = ones((1, 1))\n",
        "    # update the generator via the discriminator's error\n",
        "    gan_model.train_on_batch(x_gan, y_gan)\n",
        "    # evaluate the model every n_eval epochs\n",
        "  #if i % n_eval == 0:\n",
        "    #summarize_performance(i, g_model, d_model, latent_dim,1)"
      ],
      "metadata": {
        "id": "Krn8fmCCJbkc"
      },
      "execution_count": null,
      "outputs": []
    },
    {
      "cell_type": "code",
      "source": [
        "# size of the latent space\n",
        "latent_dim = 1\n",
        "# create the discriminator\n",
        "discriminator = define_discriminator()\n",
        "# create the generator\n",
        "generator = define_generator(latent_dim,1)\n",
        "# create the gan\n",
        "gan_model = define_gan(generator, discriminator)\n",
        "# train model\n",
        "#train(generator, discriminator, gan_model, latent_dim)"
      ],
      "metadata": {
        "id": "OZvBXgOhv0jR"
      },
      "execution_count": null,
      "outputs": []
    },
    {
      "cell_type": "code",
      "source": [
        "keras.utils.plot_model(discriminator,show_shapes=True, show_layer_names=True)"
      ],
      "metadata": {
        "colab": {
          "base_uri": "https://localhost:8080/",
          "height": 312
        },
        "id": "s8-9xz_sJuHv",
        "outputId": "894ec41c-cfe0-435d-8c8f-b23ea2c0ab9e"
      },
      "execution_count": null,
      "outputs": [
        {
          "output_type": "execute_result",
          "data": {
            "image/png": "[encoded data removed]",
            "text/plain": [
              "<IPython.core.display.Image object>"
            ]
          },
          "metadata": {},
          "execution_count": 69
        }
      ]
    },
    {
      "cell_type": "code",
      "source": [
        "keras.utils.plot_model(generator,show_shapes=True, show_layer_names=True)"
      ],
      "metadata": {
        "colab": {
          "base_uri": "https://localhost:8080/",
          "height": 312
        },
        "id": "Vta3r2JbJ0vU",
        "outputId": "188b92e0-501f-4e72-fb7c-206c659907e2"
      },
      "execution_count": null,
      "outputs": [
        {
          "output_type": "execute_result",
          "data": {
            "image/png": "[encoded data removed]",
            "text/plain": [
              "<IPython.core.display.Image object>"
            ]
          },
          "metadata": {},
          "execution_count": 70
        }
      ]
    },
    {
      "cell_type": "code",
      "source": [
        "D_real_accuracy = []\n",
        "D_fake_accuracy = []\n",
        "G_accuracy = []\n",
        "D_real_loss = []\n",
        "D_fake_loss = []\n",
        "G_loss = []"
      ],
      "metadata": {
        "id": "AsaiBMKINi-i"
      },
      "execution_count": null,
      "outputs": []
    },
    {
      "cell_type": "code",
      "source": [
        "def plot_metrics(D_real_loss,D_real_accuracy,D_fake_loss,D_fake_accuracy,G_loss,G_accuracy):\n",
        "  print(\"Loss Plot:\\n\")\n",
        "  plt.plot(D_real_loss)\n",
        "  plt.plot(D_fake_loss)\n",
        "  plt.plot(G_loss)\n",
        "  plt.show()\n",
        "  print(\"Accuracy Plot:\\n\")\n",
        "  plt.plot(D_real_accuracy)\n",
        "  plt.plot(D_fake_accuracy)\n",
        "  plt.plot(G_accuracy)\n",
        "  plt.show()\n"
      ],
      "metadata": {
        "id": "oPB2sDGPNkHj"
      },
      "execution_count": null,
      "outputs": []
    },
    {
      "cell_type": "code",
      "source": [
        "train(generator, discriminator, gan_model, latent_dim)"
      ],
      "metadata": {
        "colab": {
          "base_uri": "https://localhost:8080/",
          "height": 1000
        },
        "id": "o9RATrHR-jEg",
        "outputId": "eda9ff92-b35a-48e3-9c9c-0a36b34b4366"
      },
      "execution_count": null,
      "outputs": []
    },
    {
      "cell_type": "code",
      "source": [
        "input = np.random.normal(0,1,100)\n",
        "res = generator.predict(input)\n",
        "print(probCalc(res,100))\n",
        "for i in res:\n",
        "  print(i)"
      ],
      "metadata": {
        "colab": {
          "base_uri": "https://localhost:8080/"
        },
        "id": "jZApk7wgpcgU",
        "outputId": "0aa91467-54b3-40cc-d3dd-f9c7e41833a2"
      },
      "execution_count": null,
      "outputs": [
        {
          "output_type": "stream",
          "name": "stdout",
          "text": [
            "4/4 [==============================] - 0s 3ms/step\n",
            "success = 0.51,failure = 0.49\n",
            "None\n",
            "[0.01412645]\n",
            "[0.00010423]\n",
            "[0.7952219]\n",
            "[0.9950659]\n",
            "[0.00222728]\n",
            "[0.28979903]\n",
            "[0.99503434]\n",
            "[0.9922967]\n",
            "[0.9941745]\n",
            "[0.0023163]\n",
            "[0.99368846]\n",
            "[0.99440384]\n",
            "[0.00194421]\n",
            "[0.00837335]\n",
            "[0.4256377]\n",
            "[0.9933952]\n",
            "[0.992712]\n",
            "[0.99360347]\n",
            "[0.9946493]\n",
            "[0.00431575]\n",
            "[0.70153713]\n",
            "[0.02622513]\n",
            "[0.9944776]\n",
            "[0.6370568]\n",
            "[0.00359449]\n",
            "[9.419769e-05]\n",
            "[0.9940132]\n",
            "[0.00080697]\n",
            "[0.00760221]\n",
            "[0.5446068]\n",
            "[0.75954115]\n",
            "[0.00600931]\n",
            "[0.5506469]\n",
            "[0.8007966]\n",
            "[0.00855204]\n",
            "[0.00173381]\n",
            "[0.99507093]\n",
            "[0.01005247]\n",
            "[0.00074717]\n",
            "[0.00337429]\n",
            "[0.9949057]\n",
            "[0.00788033]\n",
            "[0.99440575]\n",
            "[0.99441874]\n",
            "[0.00174695]\n",
            "[0.9946641]\n",
            "[0.20660985]\n",
            "[0.00428058]\n",
            "[0.99212337]\n",
            "[0.00656417]\n",
            "[0.00212558]\n",
            "[0.00160895]\n",
            "[0.00081249]\n",
            "[0.2508359]\n",
            "[0.99111366]\n",
            "[0.9928179]\n",
            "[0.00992665]\n",
            "[0.00596809]\n",
            "[0.00660491]\n",
            "[0.9945401]\n",
            "[0.9950173]\n",
            "[0.00544536]\n",
            "[0.9936905]\n",
            "[0.00965473]\n",
            "[0.9950515]\n",
            "[0.99425197]\n",
            "[0.991441]\n",
            "[0.00323412]\n",
            "[0.01101634]\n",
            "[0.9933841]\n",
            "[0.99135184]\n",
            "[0.00495709]\n",
            "[0.9925368]\n",
            "[0.9915428]\n",
            "[0.00302958]\n",
            "[0.9948667]\n",
            "[0.9942533]\n",
            "[0.99226475]\n",
            "[0.00100239]\n",
            "[0.9950255]\n",
            "[0.9940164]\n",
            "[0.99128175]\n",
            "[0.99497366]\n",
            "[0.5077721]\n",
            "[3.3579767e-05]\n",
            "[0.00714323]\n",
            "[0.99447215]\n",
            "[0.21344304]\n",
            "[0.01371762]\n",
            "[0.00241091]\n",
            "[0.18428923]\n",
            "[0.0028705]\n",
            "[0.00046604]\n",
            "[0.99440753]\n",
            "[0.9935211]\n",
            "[0.59461534]\n",
            "[0.99377406]\n",
            "[0.99325716]\n",
            "[0.01039603]\n",
            "[0.01152834]\n"
          ]
        }
      ]
    }
  ]
}